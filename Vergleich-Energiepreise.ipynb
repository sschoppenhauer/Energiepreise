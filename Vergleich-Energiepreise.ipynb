{
 "cells": [
  {
   "cell_type": "markdown",
   "metadata": {},
   "source": [
    "# <center> Vergleich der aktuellen Energiepreise"
   ]
  },
  {
   "cell_type": "code",
   "execution_count": null,
   "metadata": {},
   "outputs": [],
   "source": [
    "#HIDDEN\n",
    "from bs4 import BeautifulSoup\n",
    "import requests\n",
    "from ipywidgets import *"
   ]
  },
  {
   "cell_type": "code",
   "execution_count": null,
   "metadata": {},
   "outputs": [],
   "source": [
    "#HIDDEN\n",
    "text_oil = widgets.Label('Heizöl: ')\n",
    "balken_oil = widgets.FloatProgress(\n",
    "    value=0,\n",
    "    min=0,\n",
    "    max=100,\n",
    "    style={'bar_color': 'blue'},\n",
    "    orientation='horizontal'\n",
    ")\n",
    "\n",
    "text_pellet = widgets.Label('Pellets: ')\n",
    "balken_pellet = widgets.FloatProgress(\n",
    "    value=0,\n",
    "    min=0,\n",
    "    max=100,\n",
    "    style={'bar_color': 'orange'},\n",
    "    orientation='horizontal'\n",
    ")\n",
    "\n",
    "text_strom = widgets.Label('Strom: ')\n",
    "balken_strom = widgets.FloatProgress(\n",
    "    value=0,\n",
    "    min=0,\n",
    "    max=100,\n",
    "    style={'bar_color': 'green'},\n",
    "    orientation='horizontal'\n",
    ")\n",
    "\n",
    "display(text_oil,balken_oil,text_pellet,balken_pellet,text_strom,balken_strom)\n",
    "\n",
    "\n",
    "def aktualisieren(a):\n",
    "    #Heizöl\n",
    "    url_oil = f'https://www.tecson.de/heizoelpreise.html'\n",
    "    page = requests.get(url_oil)\n",
    "    soup = BeautifulSoup(page.content, 'html.parser')\n",
    "    table = soup.find('table', attrs={'class':'line'})\n",
    "    rows = table.find_all('tr')\n",
    "    oil_data = rows[0].text.split()\n",
    "    oil_preis = oil_data[4]\n",
    "    oil_preis_punkt = oil_preis.replace(',','.')\n",
    "    oil_preis_kWh = round(float(oil_preis_punkt)/10.08,1)\n",
    "    text_oil.value = 'Heizöl: ' + str(oil_preis_kWh) + ' ct/kWh'\n",
    "    balken_oil.value = oil_preis_kWh\n",
    "    \n",
    "    #Pelletpreis\n",
    "    url_pellet = f'https://www.heizpellets24.de/'\n",
    "    page_pellet = requests.get(url_pellet)\n",
    "    soup_pellet = BeautifulSoup(page_pellet.content, 'html.parser')\n",
    "    table_pellet = soup_pellet.find('div', attrs={'class':'charts-all-info-part1'})\n",
    "    rows_pellet = table_pellet.find_all('span')\n",
    "    data_pellet = rows_pellet[0].text.split()\n",
    "    pellet_preis = data_pellet[0]\n",
    "    pellet_preis_punkt = pellet_preis.replace(',','.')\n",
    "    pellet_preis_kWh = round(float(pellet_preis_punkt)/4900*100,1)\n",
    "    text_pellet.value = 'Pellets: ' + str(pellet_preis_kWh) + ' ct/kWh'\n",
    "    balken_pellet.value = pellet_preis_kWh\n",
    "    \n",
    "    #Strompreis\n",
    "    url_strom = f'https://www.stromauskunft.de/strompreise/'\n",
    "    page_strom = requests.get(url_strom)\n",
    "    soup_strom = BeautifulSoup(page_strom.content, 'html.parser')\n",
    "    table_strom = soup_strom.find('div', attrs={'class':'col-md-12'})\n",
    "    rows_strom = table_strom.find_all('strong')\n",
    "    data_strom = rows_strom[2].text.split()\n",
    "    strom_preis = data_strom[0]\n",
    "    strom_preis_punkt = strom_preis.replace(',','.')\n",
    "    strom_preis_kWh = round(float(strom_preis_punkt),1)\n",
    "    text_strom.value = 'Strom: ' + str(strom_preis_kWh) + ' ct/kWh'\n",
    "    balken_strom.value = strom_preis_kWh\n",
    "\n",
    "button = widgets.Button(description = 'Preise aktualisieren', button_style = '', layout=Layout(height='auto', width='100%'))\n",
    "display(button)\n",
    "\n",
    "button.on_click(aktualisieren)"
   ]
  }
 ],
 "metadata": {
  "kernelspec": {
   "display_name": "Python 3",
   "language": "python",
   "name": "python3"
  },
  "language_info": {
   "codemirror_mode": {
    "name": "ipython",
    "version": 3
   },
   "file_extension": ".py",
   "mimetype": "text/x-python",
   "name": "python",
   "nbconvert_exporter": "python",
   "pygments_lexer": "ipython3",
   "version": "3.8.3"
  }
 },
 "nbformat": 4,
 "nbformat_minor": 2
}
